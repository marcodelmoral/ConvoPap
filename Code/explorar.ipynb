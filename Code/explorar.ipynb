{
 "cells": [
  {
   "cell_type": "markdown",
   "execution_count": null,
   "metadata": {},
   "outputs": [],
   "source": [
    "<center><img src='./imagenes/exploracion.png'></center>"
   ]
  },
  {
   "cell_type": "code",
   "execution_count": 25,
   "metadata": {},
   "outputs": [],
   "source": [
    "import os\n",
    "from zipfile import ZipFile\n",
    "import pandas as pd\n",
    "import cv2\n",
    "import matplotlib.pyplot as plt\n",
    "from Code.utils import draw_text, stitch_images, imagenes_muestreo, get_size_statistics, corrplot\n",
    "\n",
    "import numpy as np\n",
    "\n",
    "plt.rcParams.update({'font.size': 15})\n",
    "# plt.style.use('seaborn-white')"
   ]
  },
  {
   "cell_type": "code",
   "execution_count": 26,
   "metadata": {},
   "outputs": [],
   "source": [
    "with ZipFile('database/smear2005.zip') as comprimido:\n",
    "     comprimido.extractall('database')"
   ]
  },
  {
   "cell_type": "code",
   "execution_count": 44,
   "metadata": {},
   "outputs": [],
   "source": [
    "# Leemos el archivo y lo cargamos en un DataFrame del modulo Pandas\n",
    "datos = pd.read_excel('Code/database/smear2005/new_database_results.xls')"
   ]
  },
  {
   "cell_type": "code",
   "execution_count": 0,
   "metadata": {},
   "outputs": [],
   "source": [
    "# Analizamos los primeros elementos\n",
    "datos.head()"
   ]
  },
  {
   "cell_type": "code",
   "execution_count": 0,
   "metadata": {},
   "outputs": [],
   "source": [
    "# Ahora veremos que columnas tiene el DataFrame\n",
    "datos.columns"
   ]
  },
  {
   "cell_type": "code",
   "execution_count": 0,
   "metadata": {},
   "outputs": [],
   "source": [
    "# La columna \"Class\" contiene la clase en numero a la que pertenece cada imagen\n",
    "# Para un mejor entendimiento, vamos a convertir esos numeros en clases categoricas\n",
    "# Para ello vamos a crear tres diccionarios\n",
    "# El primero va a tomar los numeros del 0 al 6 que representan las 7 clases y los convertira a categoricos\n",
    "# Los categoricos salen de los nombres de la carpeta donde se encuentran las imagenes para el caso de 7 clases\n",
    "# Para el caso de 2 clases, vamos a requerir dos diccionarios\n",
    "# El primero convierte la clase categorica a 0 o 1 dependiendo si es anormal o anormal\n",
    "# El segundo nos va a convertir esos 0 y 1 en su clase categorica correspondiente\n",
    "map_7_classes = {\n",
    "    0: 'normal_superficiel',\n",
    "    1: 'normal_intermediate',\n",
    "    2: 'normal_columnar',\n",
    "    3: 'light_dysplastic',\n",
    "    4: 'moderate_dysplastic',\n",
    "    5: 'severe_dysplastic',\n",
    "    6: 'carcinoma_in_situ'\n",
    "}\n",
    "\n",
    "map_2_classes = {\n",
    "    0: 'normal', \n",
    "    1: 'anormal'\n",
    "}\n",
    "\n",
    "map_normal_anormal = {\n",
    "    'normal_superficiel': 0,\n",
    "    'normal_intermediate': 0,\n",
    "    'normal_columnar': 0,\n",
    "    'light_dysplastic': 1,\n",
    "    'moderate_dysplastic': 1,\n",
    "    'severe_dysplastic': 1,\n",
    "    'carcinoma_in_situ': 1\n",
    "}\n"
   ]
  },
  {
   "cell_type": "code",
   "execution_count": 0,
   "metadata": {},
   "outputs": [],
   "source": [
    "# Procedemos a contar cuantas imagenes por clase se encuentran en la base de datos\n",
    "datos.groupby('Class').count()"
   ]
  },
  {
   "cell_type": "code",
   "execution_count": 0,
   "metadata": {},
   "outputs": [],
   "source": [
    "datos_correlacion = datos.drop(['ID', 'Class'], 1)\n",
    "corr = datos_correlacion.corr()\n",
    "plt.figure(figsize=(16,16))\n",
    "corrplot(corr, 'database/correlacion')"
   ]
  },
  {
   "cell_type": "code",
   "execution_count": 0,
   "metadata": {},
   "outputs": [],
   "source": [
    "# Las clases deben de comenzar en 0, pero en este caso comienzan en 1, por lo\n",
    "# que restamos 1 a cada clase y creamos una nueva columna de clase numerica para el caso 7\n",
    "datos['Class_num_7'] = datos['Class'] - 1"
   ]
  },
  {
   "cell_type": "code",
   "execution_count": 0,
   "metadata": {},
   "outputs": [],
   "source": [
    "# Mapeamos el diccionario de clases para traducir de numero a clase \n",
    "# categorica y asi obtener el folder correcto\n",
    "datos['Class_cat_7'] = datos['Class_num_7'].map(map_7_classes)"
   ]
  },
  {
   "cell_type": "code",
   "execution_count": 0,
   "metadata": {},
   "outputs": [],
   "source": [
    "# Tomando en cuenta las dos clases, procedemos a mapear para obtener clases \n",
    "# binarias numericas\n",
    "datos['Class_num_2'] = datos['Class_cat_7'].map(map_normal_anormal)"
   ]
  },
  {
   "cell_type": "code",
   "execution_count": 0,
   "metadata": {},
   "outputs": [],
   "source": [
    "# Al final mapeamos para obtener dos clases categoricas: normal y anormal\n",
    "datos['Class_cat_2'] = datos['Class_num_2'].map(map_2_classes)"
   ]
  },
  {
   "cell_type": "code",
   "execution_count": 0,
   "metadata": {},
   "outputs": [],
   "source": [
    "# Contamos cuantos elementos hay para el caso de 2 clases\n",
    "datos.groupby('Class_cat_2').count()"
   ]
  },
  {
   "cell_type": "code",
   "execution_count": 0,
   "metadata": {},
   "outputs": [],
   "source": [
    "get_size_statistics('database/smear2005/New database pictures')"
   ]
  },
  {
   "cell_type": "code",
   "execution_count": 0,
   "metadata": {},
   "outputs": [],
   "source": [
    "# Creamos la columnas que tiene la ruta absoluta de las imagenes\n",
    "# Vamos a requerir la ruta absoluta en este caso\n",
    "ruta = os.path.abspath('./database/smear2005/New database pictures/')\n",
    "ruta\n",
    "r = lambda x: os.path.join(ruta, os.path.join(x['Class_cat_7'],  x['ID']))\n",
    "datos['file'] = datos.apply(r, axis=1)"
   ]
  },
  {
   "cell_type": "code",
   "execution_count": 0,
   "metadata": {},
   "outputs": [],
   "source": [
    "# Ahora colocamos la columna con la ruta absoluta de las mascaras\n",
    "datos['masks'] = datos['ID'].str.slice_replace(start=23, repl='-d.bmp')\n",
    "rr = lambda x: os.path.join(ruta, os.path.join(x['Class_cat_7'],  x['masks']))\n",
    "datos['file_masks'] = datos.apply(rr, axis=1)"
   ]
  },
  {
   "cell_type": "code",
   "execution_count": 0,
   "metadata": {},
   "outputs": [],
   "source": [
    "#Guardamos el dataframe como .csv\n",
    "datos.to_csv('database/database_explore.csv')"
   ]
  },
  {
   "cell_type": "code",
   "execution_count": 0,
   "metadata": {},
   "outputs": [],
   "source": [
    "# Procedemos a tomar muestras de las imagenes para poder visualizar los tipos de celulas\n",
    "n_muestras = 7\n",
    "df_muestras = datos.groupby('Class_cat_7').apply(lambda x: x.sample(n=n_muestras))\n",
    "# display(df_muestras)\n",
    "ims = []\n",
    "\n",
    "for file, y, in zip(df_muestras['file'], df_muestras['Class_cat_7']):\n",
    "    img = cv2.imread(file)\n",
    "    img = cv2.resize(img,(256,256))\n",
    "    img = draw_text(img, f'{y}', color=(0, 255, 0), font_size=30,position=(10, 0), font=f'./fonts/computer-modern/cmunssdc.ttf') \n",
    "    ims.append(img)\n",
    "    \n",
    "stitched = stitch_images(ims, cols=7)    \n",
    "imagenes_muestreo(stitched, nom_archivo='database/muestras_celulas')"
   ]
  },
  {
   "cell_type": "code",
   "execution_count": 0,
   "metadata": {},
   "outputs": [],
   "source": [
    "n_muestras = 7\n",
    "df_muestras = datos.groupby('Class_cat_7').apply(lambda x: x.sample(n=n_muestras))\n",
    "# display(df_muestras)\n",
    "ims = []\n",
    "\n",
    "for file, y, in zip(df_muestras['file_masks'], df_muestras['Class_cat_7']):\n",
    "    img = cv2.imread(file)\n",
    "    img = cv2.resize(img,(256,256))\n",
    "    img = draw_text(img, f'{y}', color=(0, 255, 0), font_size=30,position=(10, 0), font=f'./fonts/computer-modern/cmunssdc.ttf') \n",
    "    ims.append(img)\n",
    "    \n",
    "stitched = stitch_images(ims, cols=7)    \n",
    "imagenes_muestreo(stitched, nom_archivo='database/muestras_mascaras')"
   ]
  },
  {
   "cell_type": "code",
   "execution_count": null,
   "metadata": {},
   "outputs": [],
   "source": []
  }
 ],
 "metadata": {
  "kernelspec": {
   "display_name": "Python [conda env:gpu]",
   "language": "python",
   "name": "conda-env-gpu-py"
  },
  "language_info": {
   "codemirror_mode": {
    "name": "ipython",
    "version": 3
   },
   "file_extension": ".py",
   "mimetype": "text/x-python",
   "name": "python",
   "nbconvert_exporter": "python",
   "pygments_lexer": "ipython3",
   "version": "3.7.5"
  },
  "pycharm": {
   "stem_cell": {
    "cell_type": "raw",
    "metadata": {
     "collapsed": false
    },
    "source": []
   }
  }
 },
 "nbformat": 4,
 "nbformat_minor": 4
}